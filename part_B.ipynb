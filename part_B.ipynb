{
 "cells": [
  {
   "cell_type": "markdown",
   "metadata": {},
   "source": [
    "# TECH 2 mandatory assignment - Part B\n",
    "\n",
    "Write your solution for Part B in this notebook."
   ]
  },
  {
   "cell_type": "code",
   "execution_count": 5,
   "metadata": {},
   "outputs": [
    {
     "name": "stdout",
     "output_type": "stream",
     "text": [
      "21.6 μs ± 48.1 ns per loop (mean ± std. dev. of 7 runs, 10,000 loops each)\n",
      "11.6 μs ± 489 ns per loop (mean ± std. dev. of 7 runs, 100,000 loops each)\n",
      "11.2 μs ± 44.1 ns per loop (mean ± std. dev. of 7 runs, 100,000 loops each)\n",
      "225 μs ± 3.85 μs per loop (mean ± std. dev. of 7 runs, 1,000 loops each)\n",
      "78.1 μs ± 10.3 μs per loop (mean ± std. dev. of 7 runs, 10,000 loops each)\n",
      "12.9 μs ± 423 ns per loop (mean ± std. dev. of 7 runs, 100,000 loops each)\n",
      "2.32 ms ± 15 μs per loop (mean ± std. dev. of 7 runs, 100 loops each)\n",
      "674 μs ± 944 ns per loop (mean ± std. dev. of 7 runs, 1,000 loops each)\n",
      "23.3 μs ± 64.3 ns per loop (mean ± std. dev. of 7 runs, 10,000 loops each)\n"
     ]
    }
   ],
   "source": [
    "from part_A import std_loops, std_builtin, std_numpy #Importing the functions from part A\n",
    "import csv\n",
    "import numpy as np\n",
    "from math import sqrt\n",
    "\n",
    "with open(\"data.csv\", \"r\") as data: #Opening the csv file\n",
    "    csv_reader = csv.reader(data)\n",
    "    \n",
    "    data_100 = [] #Creating empty lists for each column\n",
    "    data_1000 = []\n",
    "    data_10000 = []\n",
    "    \n",
    "    for line in csv_reader: \n",
    "        data_100.append(line[0]) #Adding the numbers from the csv.file to the lists\n",
    "        data_1000.append(line[1])\n",
    "        data_10000.append(line[2])\n",
    "\n",
    "    data_100 = list(filter(None, data_100)) #Removing empty cells from the lists\n",
    "    data_1000 = list(filter(None, data_1000))\n",
    "    data_10000 = list(filter(None, data_10000))\n",
    "\n",
    "    data_100 = np.array(data_100).astype(float) #Converting the lists to arrays to change the data to float\n",
    "    data_1000 = np.array(data_1000).astype(float)\n",
    "    data_10000 = np.array(data_10000).astype(float)\n",
    "\n",
    "%timeit std_loops(data_100) #Timing the functions from part_A for each column of data\n",
    "%timeit std_builtin(data_100)\n",
    "%timeit std_numpy(data_100)\n",
    "\n",
    "%timeit std_loops(data_1000)\n",
    "%timeit std_builtin(data_1000)\n",
    "%timeit std_numpy(data_1000)\n",
    "\n",
    "%timeit std_loops(data_10000)\n",
    "%timeit std_builtin(data_10000)\n",
    "%timeit std_numpy(data_10000)"
   ]
  },
  {
   "cell_type": "code",
   "execution_count": null,
   "metadata": {},
   "outputs": [],
   "source": []
  }
 ],
 "metadata": {
  "kernelspec": {
   "display_name": "Python 3 (ipykernel)",
   "language": "python",
   "name": "python3"
  },
  "language_info": {
   "codemirror_mode": {
    "name": "ipython",
    "version": 3
   },
   "file_extension": ".py",
   "mimetype": "text/x-python",
   "name": "python",
   "nbconvert_exporter": "python",
   "pygments_lexer": "ipython3",
   "version": "3.12.4"
  }
 },
 "nbformat": 4,
 "nbformat_minor": 4
}
